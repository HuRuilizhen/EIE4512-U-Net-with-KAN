{
 "cells": [
  {
   "cell_type": "code",
   "execution_count": 5,
   "metadata": {},
   "outputs": [],
   "source": [
    "import json\n",
    "import os\n",
    "import cv2\n",
    "import numpy as np\n",
    "import matplotlib.pyplot as plt"
   ]
  },
  {
   "cell_type": "code",
   "execution_count": 2,
   "metadata": {},
   "outputs": [],
   "source": [
    "TRAIN_BASE_DIR = \"DATASET/Brain Tumor Image/train\"\n",
    "TRAIN_OUT_DIR = \"DATASET/OUT/train\"\n",
    "TEST_BASE_DIR = \"DATASET/Brain Tumor Image/test\"\n",
    "TEST_OUT_DIR = \"DATASET/OUT/test\"\n",
    "VALID_BASE_DIR = \"DATASET/Brain Tumor Image/valid\"\n",
    "VALID_OUT_DIR = \"DATASET/OUT/valid\"\n",
    "JSON_FILE = \"_annotations.coco.json\""
   ]
  },
  {
   "cell_type": "code",
   "execution_count": 3,
   "metadata": {},
   "outputs": [],
   "source": [
    "def reload_images(BASE_DIR, IMAGE_OUT_DIR, image_datas):\n",
    "    if not os.path.exists(IMAGE_OUT_DIR):\n",
    "        os.makedirs(IMAGE_OUT_DIR)\n",
    "    for image_data in image_datas:\n",
    "        filename = image_data['file_name']\n",
    "        identity = image_data['id']\n",
    "        image = cv2.imread(os.path.join(BASE_DIR, filename))\n",
    "        cv2.imwrite(os.path.join(IMAGE_OUT_DIR, f\"{identity}.png\"), image)"
   ]
  },
  {
   "cell_type": "code",
   "execution_count": 4,
   "metadata": {},
   "outputs": [],
   "source": [
    "def reload_masks(IMAGE_OUT_DIR, ANNOTAION_OUT_DIR, annotation_datas):\n",
    "    if not os.path.exists(ANNOTAION_OUT_DIR):\n",
    "        os.makedirs(ANNOTAION_OUT_DIR)\n",
    "    for annotation_data in annotation_datas:\n",
    "        identity = annotation_data['image_id']\n",
    "        image = cv2.imread(os.path.join(IMAGE_OUT_DIR, f\"{identity}.png\"))\n",
    "        musk = np.zeros(image.shape[:2], dtype=np.uint8)\n",
    "        segmentation = np.array(annotation_data['segmentation'], np.int32)\n",
    "        points = segmentation.reshape((-1,2))\n",
    "        musk = cv2.fillPoly(musk, [points], 255)\n",
    "        cv2.imwrite(os.path.join(ANNOTAION_OUT_DIR, f\"{identity}.png\"), musk)\n",
    "        "
   ]
  },
  {
   "cell_type": "code",
   "execution_count": 5,
   "metadata": {},
   "outputs": [],
   "source": [
    "def data_organize(BASE_DIR, OUT_DIR, json_file):\n",
    "    with open(os.path.join(BASE_DIR, json_file), 'r') as f:\n",
    "        data = json.load(f)\n",
    "    image_datas = data['images']\n",
    "    annotation_datas = data['annotations']\n",
    "    reload_images(BASE_DIR, os.path.join(OUT_DIR, \"images\"), image_datas)\n",
    "    reload_masks(os.path.join(OUT_DIR, \"images\"), os.path.join(OUT_DIR, \"masks\"), annotation_datas)"
   ]
  },
  {
   "cell_type": "code",
   "execution_count": 6,
   "metadata": {},
   "outputs": [],
   "source": [
    "data_organize(TRAIN_BASE_DIR, TRAIN_OUT_DIR, JSON_FILE)\n",
    "data_organize(TEST_BASE_DIR, TEST_OUT_DIR, JSON_FILE)\n",
    "data_organize(VALID_BASE_DIR, VALID_OUT_DIR, JSON_FILE)"
   ]
  },
  {
   "cell_type": "code",
   "execution_count": 6,
   "metadata": {},
   "outputs": [],
   "source": [
    "def remove_duplicate_images(IMAGE_OUT_DIR, ANNOTAION_OUT_DIR):\n",
    "    images = os.listdir(IMAGE_OUT_DIR)\n",
    "    masks = os.listdir(ANNOTAION_OUT_DIR)\n",
    "    for file in images:\n",
    "        if file not in masks:\n",
    "            os.remove(os.path.join(IMAGE_OUT_DIR, file))\n",
    "            print(\"remove\", file)\n",
    "    for file in masks:\n",
    "        if file not in images:\n",
    "            os.remove(os.path.join(ANNOTAION_OUT_DIR, file))\n",
    "            print(\"remove\", file)"
   ]
  },
  {
   "cell_type": "code",
   "execution_count": 8,
   "metadata": {},
   "outputs": [],
   "source": [
    "remove_duplicate_images(os.path.join(TRAIN_OUT_DIR, \"images\"), os.path.join(TRAIN_OUT_DIR, \"masks\"))\n",
    "remove_duplicate_images(os.path.join(TEST_OUT_DIR, \"images\"), os.path.join(TEST_OUT_DIR, \"masks\"))\n",
    "remove_duplicate_images(os.path.join(VALID_OUT_DIR, \"images\"), os.path.join(VALID_OUT_DIR, \"masks\"))"
   ]
  },
  {
   "cell_type": "code",
   "execution_count": null,
   "metadata": {},
   "outputs": [],
   "source": []
  }
 ],
 "metadata": {
  "kernelspec": {
   "display_name": "Python 3",
   "language": "python",
   "name": "python3"
  },
  "language_info": {
   "codemirror_mode": {
    "name": "ipython",
    "version": 3
   },
   "file_extension": ".py",
   "mimetype": "text/x-python",
   "name": "python",
   "nbconvert_exporter": "python",
   "pygments_lexer": "ipython3",
   "version": "3.10.8"
  }
 },
 "nbformat": 4,
 "nbformat_minor": 2
}
