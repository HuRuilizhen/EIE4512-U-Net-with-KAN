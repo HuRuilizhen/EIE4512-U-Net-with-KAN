{
 "cells": [
  {
   "cell_type": "code",
   "execution_count": 1,
   "metadata": {},
   "outputs": [],
   "source": [
    "from loader import train_loader, test_loader, valid_loader"
   ]
  },
  {
   "cell_type": "code",
   "execution_count": 2,
   "metadata": {},
   "outputs": [],
   "source": [
    "from model import UKCONV"
   ]
  },
  {
   "cell_type": "code",
   "execution_count": 4,
   "metadata": {},
   "outputs": [
    {
     "data": {
      "text/plain": [
       "UKCONV(\n",
       "  (C1): KAN_Convolutional_Layer(\n",
       "    (convs): ModuleList(\n",
       "      (0-15): 16 x KAN_Convolution(\n",
       "        (conv): KANLinear(\n",
       "          (base_activation): SiLU()\n",
       "        )\n",
       "      )\n",
       "    )\n",
       "  )\n",
       "  (D1): DownSampling(\n",
       "    (Down): Sequential(\n",
       "      (0): Conv2d(16, 16, kernel_size=(3, 3), stride=(2, 2), padding=(1, 1))\n",
       "      (1): LeakyReLU(negative_slope=0.01)\n",
       "    )\n",
       "  )\n",
       "  (C2): KAN_Convolutional_Layer(\n",
       "    (convs): ModuleList(\n",
       "      (0-31): 32 x KAN_Convolution(\n",
       "        (conv): KANLinear(\n",
       "          (base_activation): SiLU()\n",
       "        )\n",
       "      )\n",
       "    )\n",
       "  )\n",
       "  (D2): DownSampling(\n",
       "    (Down): Sequential(\n",
       "      (0): Conv2d(32, 32, kernel_size=(3, 3), stride=(2, 2), padding=(1, 1))\n",
       "      (1): LeakyReLU(negative_slope=0.01)\n",
       "    )\n",
       "  )\n",
       "  (C3): KAN_Convolutional_Layer(\n",
       "    (convs): ModuleList(\n",
       "      (0-63): 64 x KAN_Convolution(\n",
       "        (conv): KANLinear(\n",
       "          (base_activation): SiLU()\n",
       "        )\n",
       "      )\n",
       "    )\n",
       "  )\n",
       "  (D3): DownSampling(\n",
       "    (Down): Sequential(\n",
       "      (0): Conv2d(64, 64, kernel_size=(3, 3), stride=(2, 2), padding=(1, 1))\n",
       "      (1): LeakyReLU(negative_slope=0.01)\n",
       "    )\n",
       "  )\n",
       "  (C4): KAN_Convolutional_Layer(\n",
       "    (convs): ModuleList(\n",
       "      (0-127): 128 x KAN_Convolution(\n",
       "        (conv): KANLinear(\n",
       "          (base_activation): SiLU()\n",
       "        )\n",
       "      )\n",
       "    )\n",
       "  )\n",
       "  (D4): DownSampling(\n",
       "    (Down): Sequential(\n",
       "      (0): Conv2d(128, 128, kernel_size=(3, 3), stride=(2, 2), padding=(1, 1))\n",
       "      (1): LeakyReLU(negative_slope=0.01)\n",
       "    )\n",
       "  )\n",
       "  (C5): KAN_Convolutional_Layer(\n",
       "    (convs): ModuleList(\n",
       "      (0-255): 256 x KAN_Convolution(\n",
       "        (conv): KANLinear(\n",
       "          (base_activation): SiLU()\n",
       "        )\n",
       "      )\n",
       "    )\n",
       "  )\n",
       "  (U1): UpSampling(\n",
       "    (Up): Conv2d(256, 128, kernel_size=(3, 3), stride=(1, 1), padding=(1, 1))\n",
       "  )\n",
       "  (C6): KAN_Convolutional_Layer(\n",
       "    (convs): ModuleList(\n",
       "      (0-127): 128 x KAN_Convolution(\n",
       "        (conv): KANLinear(\n",
       "          (base_activation): SiLU()\n",
       "        )\n",
       "      )\n",
       "    )\n",
       "  )\n",
       "  (U2): UpSampling(\n",
       "    (Up): Conv2d(128, 64, kernel_size=(3, 3), stride=(1, 1), padding=(1, 1))\n",
       "  )\n",
       "  (C7): KAN_Convolutional_Layer(\n",
       "    (convs): ModuleList(\n",
       "      (0-63): 64 x KAN_Convolution(\n",
       "        (conv): KANLinear(\n",
       "          (base_activation): SiLU()\n",
       "        )\n",
       "      )\n",
       "    )\n",
       "  )\n",
       "  (U3): UpSampling(\n",
       "    (Up): Conv2d(64, 32, kernel_size=(3, 3), stride=(1, 1), padding=(1, 1))\n",
       "  )\n",
       "  (C8): KAN_Convolutional_Layer(\n",
       "    (convs): ModuleList(\n",
       "      (0-31): 32 x KAN_Convolution(\n",
       "        (conv): KANLinear(\n",
       "          (base_activation): SiLU()\n",
       "        )\n",
       "      )\n",
       "    )\n",
       "  )\n",
       "  (U4): UpSampling(\n",
       "    (Up): Conv2d(32, 16, kernel_size=(3, 3), stride=(1, 1), padding=(1, 1))\n",
       "  )\n",
       "  (C9): KAN_Convolutional_Layer(\n",
       "    (convs): ModuleList(\n",
       "      (0-15): 16 x KAN_Convolution(\n",
       "        (conv): KANLinear(\n",
       "          (base_activation): SiLU()\n",
       "        )\n",
       "      )\n",
       "    )\n",
       "  )\n",
       "  (Th): Sigmoid()\n",
       "  (pred): Conv2d(16, 1, kernel_size=(3, 3), stride=(1, 1), padding=(1, 1))\n",
       ")"
      ]
     },
     "execution_count": 4,
     "metadata": {},
     "output_type": "execute_result"
    }
   ],
   "source": [
    "UKCONV_model = UKCONV()\n",
    "\n",
    "UKCONV_model"
   ]
  },
  {
   "cell_type": "code",
   "execution_count": 5,
   "metadata": {},
   "outputs": [],
   "source": [
    "import torch\n",
    "import torch.nn as nn"
   ]
  },
  {
   "cell_type": "code",
   "execution_count": 6,
   "metadata": {},
   "outputs": [
    {
     "data": {
      "text/plain": [
       "device(type='cuda')"
      ]
     },
     "execution_count": 6,
     "metadata": {},
     "output_type": "execute_result"
    }
   ],
   "source": [
    "DEVICE = torch.device('cuda' if torch.cuda.is_available() else 'cpu')\n",
    "DEVICE"
   ]
  },
  {
   "cell_type": "code",
   "execution_count": 7,
   "metadata": {},
   "outputs": [],
   "source": [
    "UKCONV_model=UKCONV_model.to(DEVICE)\n",
    "\n",
    "loss_fn= nn.BCEWithLogitsLoss()\n",
    "lr=0.0001\n",
    "optimizer=torch.optim.Adam(params=UKCONV_model.parameters(), lr=lr)\n",
    "n_epochs = 10"
   ]
  },
  {
   "cell_type": "code",
   "execution_count": 8,
   "metadata": {},
   "outputs": [],
   "source": [
    "from tqdm.notebook import tqdm\n",
    "\n",
    "def train_one_epoch(model, optimizer, loss_fn, dataloader):\n",
    "    model.train()\n",
    "    train_loss = 0.0\n",
    "    for batch in tqdm(dataloader, desc=\"Training\"):\n",
    "        images, masks = batch\n",
    "        images, masks = images.to(DEVICE), masks.to(DEVICE)\n",
    "        optimizer.zero_grad()\n",
    "        outputs = model(images)\n",
    "        loss = loss_fn(outputs, masks)\n",
    "        loss.backward()\n",
    "        optimizer.step()\n",
    "        train_loss += loss.item() * images.size(0)\n",
    "    train_loss /= len(dataloader.dataset)\n",
    "    return train_loss"
   ]
  },
  {
   "cell_type": "code",
   "execution_count": 10,
   "metadata": {},
   "outputs": [
    {
     "data": {
      "application/vnd.jupyter.widget-view+json": {
       "model_id": "ccab9c651f804ffa8f9ba026a6a5b4a9",
       "version_major": 2,
       "version_minor": 0
      },
      "text/plain": [
       "Training:   0%|          | 0/24 [00:00<?, ?it/s]"
      ]
     },
     "metadata": {},
     "output_type": "display_data"
    },
    {
     "ename": "",
     "evalue": "",
     "output_type": "error",
     "traceback": [
      "\u001b[1;31m在当前单元格或上一个单元格中执行代码时 Kernel 崩溃。\n",
      "\u001b[1;31m请查看单元格中的代码，以确定故障的可能原因。\n",
      "\u001b[1;31m单击<a href='https://aka.ms/vscodeJupyterKernelCrash'>此处</a>了解详细信息。\n",
      "\u001b[1;31m有关更多详细信息，请查看 Jupyter <a href='command:jupyter.viewOutput'>log</a>。"
     ]
    }
   ],
   "source": [
    "for epoch in range(n_epochs):\n",
    "    train_loss = train_one_epoch(UKCONV_model, optimizer, loss_fn, train_loader)\n",
    "    print(f\"Epoch {epoch+1}/{n_epochs}, Train Loss: {train_loss:.4f}\")"
   ]
  },
  {
   "cell_type": "code",
   "execution_count": null,
   "metadata": {},
   "outputs": [],
   "source": [
    "torch.save(UKCONV_model.state_dict(), 'UKCONV_model.pth')"
   ]
  },
  {
   "cell_type": "code",
   "execution_count": null,
   "metadata": {},
   "outputs": [],
   "source": [
    "from model import UKCONV\n",
    "from torch import nn\n",
    "import torch\n",
    "\n",
    "UKCONV_model = UKCONV()\n",
    "torch.load('UKCONV_model.pth') \n",
    "\n",
    "loss_fn= nn.BCEWithLogitsLoss()"
   ]
  },
  {
   "cell_type": "code",
   "execution_count": null,
   "metadata": {},
   "outputs": [],
   "source": [
    "from loader import test_loader\n",
    "\n",
    "test_loss = 0.0\n",
    "UKCONV_model.eval()\n",
    "with torch.no_grad():\n",
    "    for batch in test_loader:\n",
    "        images, masks = batch\n",
    "        outputs = UKCONV_model(images)\n",
    "        loss = loss_fn(outputs, masks)\n",
    "        test_loss += loss.item() * images.size(0)\n",
    "test_loss /= len(test_loader.dataset)\n",
    "print(f\"Test Loss: {test_loss:.4f}\")"
   ]
  }
 ],
 "metadata": {
  "kernelspec": {
   "display_name": "Python 3",
   "language": "python",
   "name": "python3"
  },
  "language_info": {
   "codemirror_mode": {
    "name": "ipython",
    "version": 3
   },
   "file_extension": ".py",
   "mimetype": "text/x-python",
   "name": "python",
   "nbconvert_exporter": "python",
   "pygments_lexer": "ipython3",
   "version": "3.10.8"
  }
 },
 "nbformat": 4,
 "nbformat_minor": 2
}
